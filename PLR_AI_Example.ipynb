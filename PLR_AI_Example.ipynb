{
 "cells": [
  {
   "cell_type": "code",
   "execution_count": 21,
   "id": "d43f5f57",
   "metadata": {},
   "outputs": [],
   "source": []
  },
  {
   "cell_type": "code",
   "execution_count": 32,
   "id": "eb7c6e98",
   "metadata": {},
   "outputs": [],
   "source": [
    "prompt_1 = \"\"\"\n",
    "# Pick up tips from positions 0-2 of tips_0\n",
    "\"\"\"\n",
    "\n",
    "completion_1 = \"\"\"\n",
    "lh.pick_up_tips([tip_0[0], tip_0[1], tip_0[2]])\n",
    "\"\"\"\n",
    "\n",
    "prompt_2 = \"\"\"\n",
    "#Aspirate 300uL from positions 0-2 of plate and dispense to positions 3-5 of plate\n",
    "\"\"\"\n",
    "\n",
    "completion_2 = \"\"\"\n",
    "lh.aspirate([plate[0],plate[1], plate[2]], vols=[300]*3)\n",
    "lh.dispense([plate[3],plate[4], plate[5]], vols=[300]*3)\n",
    "\"\"\"\n",
    "\n",
    "prompt_3 = \"\"\"\n",
    "#Pick up tips from the first column of tips_0, aspirate 200uL from the second column of plate,\n",
    "#and dispense 30 uL each to the fifth, seventh, and ninth columns of plate\n",
    "\"\"\"\n",
    "\n",
    "completion_3 = \"\"\"\n",
    "tips_poss = [tip_0[i] for i in range(8)]\n",
    "lh.pick_up_tips(tips_poss)\n",
    "\n",
    "asp_poss = [plate[i] for i in range(8,16)]\n",
    "lh.aspirate(asp_poss, vols = [200]*8)\n",
    "\n",
    "disp_cols = [4,6,8]\n",
    "for col in disp_cols:\n",
    "    disp_poss = [plate[idx] for idx in range(8*col,8*col+8)]\n",
    "    lh.dispense(disp_poss, [30]*8)\n",
    "\n",
    "\"\"\"\n",
    "\n",
    "prompt_4 = \"\"\"\n",
    "#Aspirate 100uL from every other well in the 4th column of plate from height 10\n",
    "\"\"\"\n",
    "\n",
    "completion_4 = \"\"\"\n",
    "asp_poss = [plate[i] for i in range(24,32) if i%2==0]\n",
    "lh.aspirate([asp_poss], vols=[100]*4, liquid_height = 10.0)\n",
    "\"\"\"\n",
    "\n",
    "prompt_5 = \"\"\"\n",
    "#Aspirate 100uL from every other well in the 4th column of plate from height 10\n",
    "\"\"\"\n",
    "\n",
    "completion_5 = \"\"\"\n",
    "col = 3\n",
    "asp_poss = [plate[i] for i in range(8*col,8*col+8) if i%2==0]\n",
    "lh.aspirate([asp_poss], vols=[100]*4, liquid_height = 10.0)\n",
    "\"\"\"\n",
    "\n",
    "prompt_6 = \"\"\"\n",
    "# Pick up tips from the eighth column of tip_0\n",
    "\"\"\"\n",
    "\n",
    "completion_6 = \"\"\"\n",
    "tips_poss = [tip_0[i] for i in range(56,64)]\n",
    "lh.pick_up_tips([tips_poss])\n",
    "\"\"\"\n",
    "\n",
    "\n"
   ]
  },
  {
   "cell_type": "code",
   "execution_count": 37,
   "id": "882e0599",
   "metadata": {},
   "outputs": [],
   "source": [
    "import openai\n",
    "def complete(prompt):\n",
    "    res = openai.ChatCompletion.create(\n",
    "      model=\"gpt-3.5-turbo\",\n",
    "      messages=[\n",
    "            {\"role\": \"system\", \"content\": \"\"\"You are an assistant for generating code for \n",
    "             liquid-handling robots. I will give you examples. Please never return a response \n",
    "             that is not Python code. You may respond to queries with natural language\n",
    "             but make sure to preface it with a comment symbol \"\"\"},\n",
    "            {\"role\": \"system\", \"content\": \"\"\"\n",
    "            Plates have 96 wells indexed 0-95. Wells are batched into columns of length 8,\n",
    "            so that column 0 is composed of wells 0-7, column 2 is composed of wells 8-15,\n",
    "            and so on. The first well in a column is always divisible by 8.\n",
    "            \"\"\"},\n",
    "            {\"role\": \"system\", \"content\": \"\"\"\n",
    "            Arguments to lh.aspirate() and other methods of lh should always have matching lengths.\n",
    "            \"\"\"},\n",
    "            {\"role\": \"user\", \"content\": prompt_1},\n",
    "            {\"role\": \"assistant\", \"content\": completion_1},\n",
    "            {\"role\": \"user\", \"content\": prompt_2},\n",
    "            {\"role\": \"assistant\", \"content\": completion_2},\n",
    "            {\"role\": \"user\", \"content\": prompt_3},\n",
    "            {\"role\": \"assistant\", \"content\": completion_3},\n",
    "            {\"role\": \"user\", \"content\": prompt_4},\n",
    "            {\"role\": \"assistant\", \"content\": completion_4},\n",
    "            {\"role\": \"user\", \"content\": prompt_5},\n",
    "            {\"role\": \"assistant\", \"content\": completion_5},\n",
    "                      {\"role\": \"user\", \"content\": prompt_6},\n",
    "            {\"role\": \"assistant\", \"content\": completion_6},\n",
    "\n",
    "            {\"role\": \"user\", \"content\": prompt}\n",
    "        ]\n",
    "    )\n",
    "    \n",
    "    response = res['choices'][0]['message']['content']\n",
    "    return response\n"
   ]
  },
  {
   "cell_type": "code",
   "execution_count": 39,
   "id": "0220e26f",
   "metadata": {},
   "outputs": [
    {
     "name": "stdout",
     "output_type": "stream",
     "text": [
      "asp_poss = [plate[8], plate[15]]\n",
      "lh.aspirate([asp_poss], vols=[20]*2)\n"
     ]
    }
   ],
   "source": [
    "print(complete('aspirate 20uL from the first and last wells in column 2'))"
   ]
  },
  {
   "cell_type": "code",
   "execution_count": 41,
   "id": "1094b27a",
   "metadata": {},
   "outputs": [
    {
     "name": "stdout",
     "output_type": "stream",
     "text": [
      "asp_poss = [plate[i] for i in range(28,32)]\n",
      "lh.aspirate([asp_poss], vols=[100]*4)\n"
     ]
    }
   ],
   "source": [
    "print(complete('aspirate 100uL from the last four wells of column 4'))"
   ]
  },
  {
   "cell_type": "code",
   "execution_count": 42,
   "id": "85079bbc",
   "metadata": {},
   "outputs": [
    {
     "name": "stdout",
     "output_type": "stream",
     "text": [
      "tips_poss = [tip_0[i] for i in range(8)]\n",
      "lh.pick_up_tips(tips_poss)\n",
      "\n",
      "asp_poss = [plate[i] for i in range(8,16)]\n",
      "lh.aspirate(asp_poss, vols = [200]*8)\n",
      "\n",
      "disp_poss = [plate[i] for i in range(16,24)]\n",
      "lh.dispense(disp_poss, [200]*8)\n"
     ]
    }
   ],
   "source": [
    "print(complete('pick up tips and aspirate 200uL from column 1 and dispense to column 3'))"
   ]
  },
  {
   "cell_type": "code",
   "execution_count": 43,
   "id": "abce3f83",
   "metadata": {},
   "outputs": [
    {
     "name": "stdout",
     "output_type": "stream",
     "text": [
      "tips_poss = [tip_0[i] for i in range(8)]\n",
      "lh.pick_up_tips(tips_poss)\n",
      "\n",
      "asp_poss = [plate[i] for i in range(8)]\n",
      "lh.aspirate(asp_poss, vols = [200]*8)\n",
      "\n",
      "disp_cols = [4,5,6]\n",
      "for col in disp_cols:\n",
      "    disp_poss = [plate[idx] for idx in range(8*col,8*col+8)]\n",
      "    lh.dispense(disp_poss, [50]*8)\n"
     ]
    }
   ],
   "source": [
    "print(complete('pick up tips and aspirate 200uL from column 1 and dispense 50uL to columns 5,6,7'))"
   ]
  },
  {
   "cell_type": "code",
   "execution_count": null,
   "id": "af763ac9",
   "metadata": {},
   "outputs": [],
   "source": []
  }
 ],
 "metadata": {
  "kernelspec": {
   "display_name": "Python 3 (ipykernel)",
   "language": "python",
   "name": "python3"
  },
  "language_info": {
   "codemirror_mode": {
    "name": "ipython",
    "version": 3
   },
   "file_extension": ".py",
   "mimetype": "text/x-python",
   "name": "python",
   "nbconvert_exporter": "python",
   "pygments_lexer": "ipython3",
   "version": "3.9.12"
  }
 },
 "nbformat": 4,
 "nbformat_minor": 5
}
